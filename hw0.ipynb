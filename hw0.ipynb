{
 "cells": [
  {
   "cell_type": "markdown",
   "metadata": {},
   "source": [
    "# EECS C106A HW 0: Python Intro\n",
    "### EECS C106A: Introduction to Robotics, Fall 2019"
   ]
  },
  {
   "cell_type": "markdown",
   "metadata": {},
   "source": [
    "# Introduction\n",
    "\n",
    "We will be using the Python programming language for lab and homework assignments in EECS/BioE/MechE C106a. Some homework assignments will entail matrix calculations where Python will come in handy, but you are welcome to use something like Matlab instead. This notebook is meant to be a mini bootcamp on Python for students who have had experience programming in another language already (e.g. Matlab) or need a quick refresher on Python. We will be using a few popular libraries (numpy, scipy) that are very useful. If you have experience with Matlab but not Python, we recommend checking out the [numpy for Matlab users guide](https://docs.scipy.org/doc/numpy/user/numpy-for-matlab-users.html)."
   ]
  },
  {
   "cell_type": "markdown",
   "metadata": {},
   "source": [
    "# Table of Contents\n",
    "* [IPython Basics](#IPython-Basics)\n",
    "* [Python Data Types](#Data-Types)\n",
    "* [Python Functions](#Functions)"
   ]
  },
  {
   "cell_type": "markdown",
   "metadata": {},
   "source": [
    "# How to Submit the Notebook\n",
    "\n",
    "After completing this notebook, fill out the file [`rodrigues.py`](https://raw.githubusercontent.com/ucb-ee106/python-review-notebook/master/rodrigues.py) with your `skew_3d` and `rodrigues` functions and submit it to \"HW0 Code\". Feel free to skip to the [Rodrigues' Formula](#Rodrigues'-Formula) section of this notebook and complete that if you are already familiar with Python, but we recommend going through the entire notebook anyway just to make sure you are up to speed. This assignment will be autograded, and you will be able to submit as many times as you like."
   ]
  },
  {
   "cell_type": "markdown",
   "metadata": {},
   "source": [
    "# IPython Basics\n",
    "\n",
    "For those who have never used IPython, it is a command shell for interactive Python programming. You can imagine it as allowing you to run blocks of Python code that you would execute in a single python script (python [script_name].py) in the terminal. Benefits of using IPython include easier visualization and debugging. The purpose of this bootcamp in IPython is to give you an idea of basic Python syntax and semantics. For labs you are still expected to write and execute actual Python scripts to work with ROS."
   ]
  },
  {
   "cell_type": "markdown",
   "metadata": {},
   "source": [
    "### Executing Cells\n",
    "\n",
    "ipython notebooks are constituted of cells, that each have text, code, or html scripts. To run a cell, click on the cell and press Shift+Enter or the run button on the toolbar. Run the cell below, you should expect an output of 6:"
   ]
  },
  {
   "cell_type": "code",
   "execution_count": null,
   "metadata": {},
   "outputs": [],
   "source": [
    "1+2+3"
   ]
  },
  {
   "cell_type": "markdown",
   "metadata": {},
   "source": [
    "### Stopping or Restarting Kernel\n",
    "\n",
    "To debug, or terminate a process, you can interupt the kernel by clicking Kernel/interrupt on the toolbar. If interuppting doesn't work, or you would like to restart all the processes in the notebook, click Kernel/restart. Try interrupting the following block:"
   ]
  },
  {
   "cell_type": "code",
   "execution_count": null,
   "metadata": {},
   "outputs": [],
   "source": [
    "import time\n",
    "\n",
    "while True:\n",
    "    print(\"bug\")\n",
    "    time.sleep(1.5)\n",
    "    "
   ]
  },
  {
   "cell_type": "markdown",
   "metadata": {},
   "source": [
    "### Import a library\n",
    "\n",
    "To import a certain library `x`, just type `import x`\n",
    "Calling function `y` from that library is simply `x.y`\n",
    "To give the library a different name (e.g. abbreviation), type `import x as z`"
   ]
  },
  {
   "cell_type": "code",
   "execution_count": null,
   "metadata": {},
   "outputs": [],
   "source": [
    "import numpy as np\n",
    "np.add(3, 4)"
   ]
  },
  {
   "cell_type": "markdown",
   "metadata": {},
   "source": [
    "# Python"
   ]
  },
  {
   "cell_type": "markdown",
   "metadata": {},
   "source": [
    "## Data Types"
   ]
  },
  {
   "cell_type": "markdown",
   "metadata": {},
   "source": [
    "### Integers and Floats\n",
    "\n",
    "In Python2, integer division returns the floor. In Python3, there is no floor unless you specify using double slahes. The differences between Python2 and Python3 you can [check out](https://wiki.python.org/moin/Python2orPython3), but we will be using Python2 in this class."
   ]
  },
  {
   "cell_type": "code",
   "execution_count": null,
   "metadata": {},
   "outputs": [],
   "source": [
    "5 / 4"
   ]
  },
  {
   "cell_type": "code",
   "execution_count": null,
   "metadata": {},
   "outputs": [],
   "source": [
    "5.0 / 4"
   ]
  },
  {
   "cell_type": "markdown",
   "metadata": {},
   "source": [
    "### Booleans\n",
    "\n",
    "Python implements all usual operators for Boolean logic. English, though, is used rather than symbols (no &, ||, etc.). Pay attention to the following syntax, try to guess what the output for each print statement should be before running the cell."
   ]
  },
  {
   "cell_type": "code",
   "execution_count": null,
   "metadata": {},
   "outputs": [],
   "source": [
    "print(0 == False)\n",
    "\n",
    "t = True\n",
    "print(1 == t)\n",
    "\n",
    "print(0 != t)\n",
    "\n",
    "print(t is not 1) \n",
    "\n",
    "if t is True:\n",
    "    print(0 != 0)"
   ]
  },
  {
   "cell_type": "markdown",
   "metadata": {},
   "source": [
    "### Strings\n",
    "\n",
    "Strings are supported very well. To concatenate strings we can do the following:"
   ]
  },
  {
   "cell_type": "code",
   "execution_count": null,
   "metadata": {},
   "outputs": [],
   "source": [
    "hello = 'hello'\n",
    "robot = 'robot'\n",
    "\n",
    "print(hello + ' ' + robot + str(1))"
   ]
  },
  {
   "cell_type": "markdown",
   "metadata": {},
   "source": [
    "To find the length of a string use `len(...)`"
   ]
  },
  {
   "cell_type": "code",
   "execution_count": null,
   "metadata": {},
   "outputs": [],
   "source": [
    "print(len(hello + robot))"
   ]
  },
  {
   "cell_type": "markdown",
   "metadata": {},
   "source": [
    "### Lists\n",
    "\n",
    "A list is a mutable array of data, meaning we can alter it after insantiating it. To create a list, use the square brackets [] and fill it with elements.\n",
    "\n",
    "Key operations:\n",
    "- `'+'` appends lists\n",
    "- `len(y)` to get length of list y\n",
    "- `y[0]` to index into 1st element of y **Python indices start from 0\n",
    "- `y[1:6]` to slice elements 1 through 5 of y"
   ]
  },
  {
   "cell_type": "code",
   "execution_count": null,
   "metadata": {},
   "outputs": [],
   "source": [
    "y = [\"Robots are c\"] + [0, 0, 1]\n",
    "y"
   ]
  },
  {
   "cell_type": "code",
   "execution_count": null,
   "metadata": {},
   "outputs": [],
   "source": [
    "len(y)"
   ]
  },
  {
   "cell_type": "code",
   "execution_count": null,
   "metadata": {},
   "outputs": [],
   "source": [
    "y[0]"
   ]
  },
  {
   "cell_type": "code",
   "execution_count": null,
   "metadata": {},
   "outputs": [],
   "source": [
    "# TODO: slice the first three elements of list 'y' and \n",
    "# store in a new list, then print the 2nd element of this \n",
    "# new list"
   ]
  },
  {
   "cell_type": "markdown",
   "metadata": {},
   "source": [
    "### Loops"
   ]
  },
  {
   "cell_type": "markdown",
   "metadata": {},
   "source": [
    "You can loop over the elements of a list like this:"
   ]
  },
  {
   "cell_type": "code",
   "execution_count": null,
   "metadata": {},
   "outputs": [],
   "source": [
    "robots = ['baxter', 'sawyer', 'turtlebot']\n",
    "for robot in robots:\n",
    "    print(robot)\n",
    "# Prints \"baxter\", \"sawyer\", \"turtlebot\", each on its own line."
   ]
  },
  {
   "cell_type": "markdown",
   "metadata": {},
   "source": [
    "If you want access to the index of each element within the body of a loop, use the built-in [`enumerate`](https://docs.python.org/2.7/library/functions.html#enumerate) function:"
   ]
  },
  {
   "cell_type": "code",
   "execution_count": null,
   "metadata": {
    "scrolled": true
   },
   "outputs": [],
   "source": [
    "robots = ['baxter', 'sawyer', 'turtlebot']\n",
    "\n",
    "# TODO: Using a for loop and the python built-in enumerate function,\n",
    "# Print \"#1: baxter\", \"#2: sawyer\", \"#3: turtlebot\", \n",
    "# each on its own line"
   ]
  },
  {
   "cell_type": "markdown",
   "metadata": {},
   "source": [
    "### Numpy Array\n",
    "\n",
    "The numpy array is like a list with multidimensional support and more functions (which can all be found [here](https://docs.scipy.org/doc/numpy/reference/index.html)).\n",
    "\n",
    "NumPy arrays can be manipulated with all sorts of arithmetic operations. You can think of them as more powerful lists. Many of the functions that already work with lists extend to numpy arrays.\n",
    "\n",
    "To use functions in NumPy, we have to import NumPy to our workspace. by declaring `import numpy`, which we have done previously above in this notebook already. We typically rename `numpy` as `np` for ease of use."
   ]
  },
  {
   "cell_type": "markdown",
   "metadata": {},
   "source": [
    "### Making a Numpy Array"
   ]
  },
  {
   "cell_type": "code",
   "execution_count": null,
   "metadata": {},
   "outputs": [],
   "source": [
    "x = np.array([[1, 2, 3], [4 , 5, 6], [7, 8, 9]])\n",
    "print(x)\n",
    "# x is a 3x3 matrix here"
   ]
  },
  {
   "cell_type": "markdown",
   "metadata": {},
   "source": [
    "### Finding the shape of a Numpy Array"
   ]
  },
  {
   "cell_type": "code",
   "execution_count": null,
   "metadata": {},
   "outputs": [],
   "source": [
    "x.shape # returns the dimensions of the numpy array"
   ]
  },
  {
   "cell_type": "markdown",
   "metadata": {},
   "source": [
    "### Elementwise operations\n",
    "\n",
    "Arithmetic operations on numpy arrays correspond to elementwise operations."
   ]
  },
  {
   "cell_type": "code",
   "execution_count": null,
   "metadata": {},
   "outputs": [],
   "source": [
    "print(x)\n",
    "print\n",
    "print(x * 5) # numpy carries operation on all elements!"
   ]
  },
  {
   "cell_type": "markdown",
   "metadata": {},
   "source": [
    "### Matrix multiplication"
   ]
  },
  {
   "cell_type": "code",
   "execution_count": null,
   "metadata": {},
   "outputs": [],
   "source": [
    "print(np.dot(x, x))"
   ]
  },
  {
   "cell_type": "markdown",
   "metadata": {},
   "source": [
    "### Slicing numpy arrays\n",
    "\n",
    "Numpy uses pass-by-reference semantics so it creates views into the existing array, without implicit copying. This is particularly helpful with very large arrays because copying can be slow. Although be wary that you may be mutating an array when you don't intend to, so make sure to make a copy in these situations."
   ]
  },
  {
   "cell_type": "code",
   "execution_count": null,
   "metadata": {},
   "outputs": [],
   "source": [
    "orig = np.array([0, 1, 2, 3, 4, 5])\n",
    "print(orig)"
   ]
  },
  {
   "cell_type": "markdown",
   "metadata": {},
   "source": [
    "Slicing an array is just like slicing a list"
   ]
  },
  {
   "cell_type": "code",
   "execution_count": null,
   "metadata": {},
   "outputs": [],
   "source": [
    "sliced = orig[1:4]\n",
    "print(sliced)"
   ]
  },
  {
   "cell_type": "markdown",
   "metadata": {},
   "source": [
    "Note, since slicing does not copy the array, mutating `sliced` mutates `orig`. Notice how the 4th element in `orig` changes to 9 as well."
   ]
  },
  {
   "cell_type": "code",
   "execution_count": null,
   "metadata": {},
   "outputs": [],
   "source": [
    "sliced[2] = 9\n",
    "print(orig)\n",
    "print(sliced)"
   ]
  },
  {
   "cell_type": "markdown",
   "metadata": {},
   "source": [
    "We should use `np.copy()` to actually copy `orig` if we don't want to mutate it. "
   ]
  },
  {
   "cell_type": "code",
   "execution_count": null,
   "metadata": {},
   "outputs": [],
   "source": [
    "orig = np.array([0, 1, 2, 3, 4, 5])\n",
    "copy = np.copy(orig)\n",
    "sliced_copy = copy[1:4]\n",
    "sliced_copy[2] = 9\n",
    "print(orig)\n",
    "print(sliced_copy)"
   ]
  },
  {
   "cell_type": "code",
   "execution_count": null,
   "metadata": {},
   "outputs": [],
   "source": [
    "A = np.array([[5, 6, 8], [2, 4, 5], [3, 1, 10]])\n",
    "B = np.array([[3, 5, 0], [3, 1, 1]])\n",
    "# TODO: multiply matrix A with matrix B padded with 1's to the \n",
    "# same dimensions as A; sum this result with the identiy matrix \n",
    "# (you may find np.concatenate, np.vstack, np.hstack, or np.eye useful). \n",
    "# Make sure you don't alter the original contents of B. Print the result"
   ]
  },
  {
   "cell_type": "markdown",
   "metadata": {},
   "source": [
    "### Handy Numpy function: arange\n",
    "\n",
    "We use `arange` to instantiate integer sequences in numpy arrays. It's similar to the built-in range function in Python for lists. However, it returns the result as a numpy array, rather a simple list.\n",
    "\n",
    "`arange(0,N)` instantiates an array listing every integer from 0 to N-1.\n",
    "\n",
    "`arange(0,N,i)` instantiates an array listing every `i` th integer from 0 to N-1 ."
   ]
  },
  {
   "cell_type": "code",
   "execution_count": null,
   "metadata": {},
   "outputs": [],
   "source": [
    "print(np.arange(-3,4)) # every integer from -3 ... 3"
   ]
  },
  {
   "cell_type": "code",
   "execution_count": null,
   "metadata": {},
   "outputs": [],
   "source": [
    "# TODO: print every other integer from 0 ... 6 multiplied by 2\n",
    "# as a list"
   ]
  },
  {
   "cell_type": "markdown",
   "metadata": {},
   "source": [
    "## Functions"
   ]
  },
  {
   "cell_type": "markdown",
   "metadata": {},
   "source": [
    "Python functions are defined using the `def` keyword. For example:"
   ]
  },
  {
   "cell_type": "code",
   "execution_count": null,
   "metadata": {},
   "outputs": [],
   "source": [
    "def hello_robot(robot_name, yell=True):\n",
    "    if yell:\n",
    "        print('HELLO, %s!' % robot_name.upper())\n",
    "    else:\n",
    "        print('hello, %s' % robot_name)"
   ]
  },
  {
   "cell_type": "code",
   "execution_count": null,
   "metadata": {},
   "outputs": [],
   "source": [
    "hello_robot('Baxter') # Prints \"HELLO, BAXTER!\"\n",
    "hello_robot('Sawyer', yell=False)  # Prints \"hello, Sawyer\""
   ]
  },
  {
   "cell_type": "markdown",
   "metadata": {},
   "source": [
    "## Rodrigues' Formula\n",
    "\n",
    "The Rodrigues' Formula is a useful formula that allows us to calculate the corresponding rotation matrix R when given an axis $\\omega$ an angle $\\theta$ of rotation: \n",
    "\n",
    "$$R = I_{3} + \\frac{\\hat{\\omega}}{\\left\\|\\omega\\right\\|}\\sin{(\\left\\|\\omega\\right\\|\\theta)} + \\frac{\\hat{\\omega}^{2}}{\\left\\|\\omega\\right\\|^{2}}(1 - \\cos{(\\left\\|\\omega\\right\\|\\theta}))$$  \n",
    "\n",
    "where \n",
    "$$\\hat{\\omega} = \\hat{\n",
    "\\begin{bmatrix} \\omega_{1} \\\\ \n",
    "\\omega_{2} \\\\ \n",
    "\\omega_{3} \n",
    "\\end{bmatrix}} \n",
    "= \\begin{bmatrix} \n",
    "0 & -\\omega_{3} & \\omega_{2} \\\\\n",
    "\\omega_{3} & 0 & -\\omega_{1} \\\\\n",
    "-\\omega_{2} & \\omega_{1} & 0\n",
    "\\end{bmatrix}$$\n",
    "\n",
    "$\\hat{\\omega}$ is known as the skey-symmetric matrix form of $\\omega$. For now, you don't have to worry about the exact details and derivation of this formula since it will be discussed in class and the given formula alone should be enough to complete this problem. A sanity check for your rodrigues implementation is provided for your benefit."
   ]
  },
  {
   "cell_type": "code",
   "execution_count": null,
   "metadata": {},
   "outputs": [],
   "source": [
    "# TODO: define a function that converts a rotation vector in 3D \n",
    "# of shape (3,) to its coressponding skew-symmetric representation\n",
    "# of shape (3, 3). This function will prove useful in the next question.\n",
    "def skew_3d(omega):\n",
    "    \"\"\"\n",
    "    Converts a rotation vector in 3D to its corresponding skew-symmetric matrix.\n",
    "    \n",
    "    Args:\n",
    "    omega - (3,) ndarray: the rotation vector\n",
    "    \n",
    "    Returns:\n",
    "    omega_hat - (3,3) ndarray: the corresponding skew symmetric matrix\n",
    "    \"\"\"\n",
    "    if not omega.shape == (3,):\n",
    "        raise TypeError('omega must be a 3-dim column vector')\n",
    "    \n",
    "    # YOUR CODE HERE"
   ]
  },
  {
   "cell_type": "code",
   "execution_count": null,
   "metadata": {},
   "outputs": [],
   "source": [
    "# TODO: define a function that when given an axis of rotation omega\n",
    "# and angle of rotation theta, uses the Rodrigues' Formula to compute\n",
    "# and return the corresponding 3D rotation matrix R. \n",
    "# The function has already been partially defined out for you below.\n",
    "def rodrigues(omega, theta):\n",
    "    \"\"\"\n",
    "    Computes a 3D rotation matrix given a rotation axis and angle of rotation.\n",
    "    \n",
    "    Args:\n",
    "    omega - (3,) ndarray: the axis of rotation\n",
    "    theta: the angle of rotation\n",
    "    \n",
    "    Returns:\n",
    "    R - (3,3) ndarray: the resulting rotation matrix\n",
    "    \"\"\"\n",
    "    if not omega.shape == (3,):\n",
    "        raise TypeError('omega must be a 3-dim column vector')\n",
    "    \n",
    "    # YOUR CODE HERE"
   ]
  },
  {
   "cell_type": "code",
   "execution_count": null,
   "metadata": {},
   "outputs": [],
   "source": [
    "arg1 = np.array([2.0, 1, 3])\n",
    "arg2 = 0.587\n",
    "ret_desired = np.array([[-0.1325, -0.4234,  0.8962],\n",
    "                            [ 0.8765, -0.4723, -0.0935],\n",
    "                            [ 0.4629,  0.7731,  0.4337]])\n",
    "print(\"sanity check for rodrigues:\")\n",
    "if np.allclose(rodrigues(arg1, arg2), ret_desired, rtol=1e-2):\n",
    "    print(\"passed\")"
   ]
  },
  {
   "cell_type": "markdown",
   "metadata": {},
   "source": [
    "# References\n",
    "- [1] EE 120 lab1\n",
    "- [2] EECS 126 Lab01\n",
    "- [3] EE 16a Python Bootcamp\n",
    "- [4] CS 231n Python Numpy Tutorial. [Link](http://cs231n.github.io/python-numpy-tutorial/)"
   ]
  },
  {
   "cell_type": "code",
   "execution_count": null,
   "metadata": {},
   "outputs": [],
   "source": []
  }
 ],
 "metadata": {
  "kernelspec": {
   "display_name": "Python 3",
   "language": "python",
   "name": "python3"
  },
  "language_info": {
   "codemirror_mode": {
    "name": "ipython",
    "version": 3
   },
   "file_extension": ".py",
   "mimetype": "text/x-python",
   "name": "python",
   "nbconvert_exporter": "python",
   "pygments_lexer": "ipython3",
   "version": "3.8.10"
  }
 },
 "nbformat": 4,
 "nbformat_minor": 2
}
